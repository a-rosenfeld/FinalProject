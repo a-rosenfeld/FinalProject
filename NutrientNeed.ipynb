{
 "cells": [
  {
   "cell_type": "markdown",
   "metadata": {},
   "source": []
  },
  {
   "cell_type": "code",
   "execution_count": 1,
   "metadata": {},
   "outputs": [
    {
     "name": "stdin",
     "output_type": "stream",
     "text": [
      "What is your name?\n",
      " Richard\n",
      "What is the physiological state of the cow? Use: non-lactating, lactating, or growing\n",
      " lactating\n",
      "What is the live weight in kg of the cow?\n",
      " 500\n",
      "What is the milk production in kg? Use integer numbers\n",
      " 50\n"
     ]
    },
    {
     "name": "stdout",
     "output_type": "stream",
     "text": [
      "Richard your animal needs: 76.5 g of Ca per day\n"
     ]
    }
   ],
   "source": [
    "name = input('What is your name?\\n')\n",
    "physio = input('What is the physiological state of the cow? Use: non-lactating, lactating, or growing\\n')\n",
    "weight = input('What is the live weight in kg of the cow?\\n')\n",
    "\n",
    "if physio == str('non-lactating'):\n",
    "    Ca = 0.0154*int(weight)\n",
    "    print(name, 'your animal needs:', Ca, 'g of Ca per day')\n",
    "elif physio == str('lactating'):\n",
    "    mp = input('What is the milk production in kg? Use integer numbers\\n')\n",
    "    Ca = (0.031*int(weight))+(1.22*int(mp))\n",
    "    print(name, 'your animal needs:', Ca, 'g of Ca per day')\n",
    "elif physio == str('growing'):\n",
    "    AdWeight = input('Expected adult weight? Use integer values\\n')\n",
    "    DWG = input('Daily weight gain? Use kg with 3 units after the point')\n",
    "    Ca = (9.83*(int(AdWeight)**0.22)*(int(weight)**-0.22))*float(DWG)\n",
    "    print(name, 'your animal needs:', Ca, 'g of Ca per day')\n",
    "else:\n",
    "    print('Sorry', name,', something is wrong. Please try again')"
   ]
  },
  {
   "cell_type": "code",
   "execution_count": null,
   "metadata": {},
   "outputs": [],
   "source": []
  }
 ],
 "metadata": {
  "kernelspec": {
   "display_name": "Python 3.8 (full)",
   "language": "python",
   "name": "python3-3.8-ufrc"
  },
  "language_info": {
   "codemirror_mode": {
    "name": "ipython",
    "version": 3
   },
   "file_extension": ".py",
   "mimetype": "text/x-python",
   "name": "python",
   "nbconvert_exporter": "python",
   "pygments_lexer": "ipython3",
   "version": "3.8.1"
  }
 },
 "nbformat": 4,
 "nbformat_minor": 4
}
