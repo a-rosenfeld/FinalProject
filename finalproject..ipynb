{
 "cells": [
  {
   "cell_type": "code",
   "execution_count": 1,
   "metadata": {},
   "outputs": [
    {
     "name": "stdin",
     "output_type": "stream",
     "text": [
      "Name?\n",
      " richard\n"
     ]
    }
   ],
   "source": [
    "#Mineral needs for dairy cows following NRC 2001\n",
    "name = input('Name?\\n')\n",
    "import math"
   ]
  },
  {
   "cell_type": "code",
   "execution_count": 2,
   "metadata": {},
   "outputs": [
    {
     "name": "stdin",
     "output_type": "stream",
     "text": [
      "Cow ID? 120\n",
      "Average body weight? 500\n",
      "Days in milk? if not a lactating cow type 0\n",
      " 120\n",
      "Days of pregnancy? if not a pregnant cow type 0\n",
      " 250\n",
      "What is the breed? Type: holstein, jersey, or other jersey\n",
      "Milk production in kg?\n",
      " 35\n",
      "Milk fat? use %\n",
      " 4.1\n",
      "Average of weight gain?\n",
      " 0.1\n"
     ]
    }
   ],
   "source": [
    "#Enter basic information for the calculation\n",
    "cowID = input('Cow ID?')\n",
    "bw = input('Average body weight?')\n",
    "mw = int(bw)**0.75\n",
    "dim = input('Days in milk? if not a lactating cow type 0\\n')\n",
    "dp = input('Days of pregnancy? if not a pregnant cow type 0\\n')\n",
    "breed = input('What is the breed? Type: holstein, jersey, or other')\n",
    "milkprod = input('Milk production in kg?\\n')\n",
    "milkfat = input('Milk fat? use %\\n')\n",
    "wg = input('Average of weight gain?\\n')"
   ]
  },
  {
   "cell_type": "code",
   "execution_count": 3,
   "metadata": {},
   "outputs": [],
   "source": [
    "#save the information in a csv file\n",
    "import csv\n",
    "with open('info.csv', 'w', newline='') as csvfile:\n",
    "    writer = csv.writer(csvfile, delimiter='|', quoting=csv.QUOTE_ALL)\n",
    "    writer.writerow(['Cow ID', 'Body weight', 'Days in milking', 'Days of pregnancy', 'Breed', 'Milk production', 'Milk fat', 'Weight gain'])\n",
    "    writer.writerow([cowID, bw, dim, dp, breed, milkprod, milkfat, wg])\n"
   ]
  },
  {
   "cell_type": "code",
   "execution_count": 4,
   "metadata": {},
   "outputs": [
    {
     "name": "stdout",
     "output_type": "stream",
     "text": [
      "['Cow ID|\"Body weight\"|\"Days in milking\"|\"Days of pregnancy\"|\"Breed\"|\"Milk production\"|\"Milk fat\"|\"Weight gain\"']\n",
      "['120|\"500\"|\"120\"|\"250\"|\"jersey\"|\"35\"|\"4.1\"|\"0.1\"']\n"
     ]
    }
   ],
   "source": [
    "#Show the information obtained from the previous step\n",
    "import csv\n",
    "with open('info.csv', 'r') as file:\n",
    "    reader = csv.reader(file)\n",
    "    for row in reader:\n",
    "        print(row)"
   ]
  },
  {
   "cell_type": "code",
   "execution_count": 5,
   "metadata": {},
   "outputs": [],
   "source": [
    "#Function to calculate the calcium need\n",
    "def calcium():\n",
    "    #Needs of Ca for maintenance\n",
    "    #Urinary\n",
    "    try:\n",
    "        CaUrine = 0.08*(float(bw)/100)\n",
    "        #print('urinary =', round(float(CaUrine)), 2)\n",
    "    except:\n",
    "        print('Something on urine calculations is wrong')\n",
    "        \n",
    "   #fecal\n",
    "    try:\n",
    "        if int(dim) > 0:\n",
    "            CaFecal = 3.1*(float(bw)/100)\n",
    "        else:\n",
    "            CaFecal = 1.54*(float(bw)/100)\n",
    "        #print('fecal =', round(float(CaFecal),2))\n",
    "    except:\n",
    "        print('Something on fecal calculations is wrong')\n",
    "        \n",
    "    #Pregnancy\n",
    "    try:\n",
    "        if float(dp) > 189:\n",
    "            CaFetal = 0.02456*math.exp((0.05581-(0.00007*float(dp)))*float(dp))-0.02456*math.exp((0.05581-(0.00007*(float(dp)-1)))*(float(dp)-1))\n",
    "        else:\n",
    "            CaFetal = 0\n",
    "        #print('Fetal =', round(float(CaFetal), 2))\n",
    "    except:\n",
    "        print('Something on pregnancy calculations is wrong')\n",
    "        \n",
    "    #Lactation\n",
    "    try:\n",
    "        if str(breed) == 'holstein':\n",
    "            CaMilkProd = 1.22*float(milkprod)\n",
    "        elif str(breed) == 'jersey':\n",
    "            CaMilkProd = 1.45*float(milkprod)\n",
    "        else:\n",
    "            CaMilkProd = 1.37*float(milkprod)\n",
    "        #print('Lactation =', round(float(CaMilkProd), 2))\n",
    "    except:\n",
    "        print('Something on lactation calculations is wrong')\n",
    "\n",
    "    #Growing\n",
    "    try:\n",
    "        if float(wg) > 0:\n",
    "            CaGrowing = (9.83*(float(mw)**0.22)*(float(bw)**-0.22))*(float(wg)/0.96)\n",
    "        else:\n",
    "            CaGrowing = 0\n",
    "        #print('growing =', round(float(CaGrowing), 2))\n",
    "    except:\n",
    "        print('Something on growing calculations is wrong')\n",
    "        \n",
    "    CaNeed = CaFecal + CaUrine + CaFetal+ CaMilkProd + CaGrowing\n",
    "    print('total Ca need =',round(float(CaNeed), 2))\n"
   ]
  },
  {
   "cell_type": "code",
   "execution_count": 6,
   "metadata": {},
   "outputs": [],
   "source": [
    "#Function to calculate the phosphorus need\n",
    "def phosphorus():\n",
    "    #Needs of Ca for maintenance\n",
    "    #Urinary\n",
    "    try:\n",
    "        PUrine = 0.002*float(bw)\n",
    "        #print('urinary =', round(float(PUrine), 2))\n",
    "    except:\n",
    "        print('Something on urine calculations is wrong')\n",
    "\n",
    "    #fecal\n",
    "    try:\n",
    "        FCM = (0.4*float(milkprod))+(15*(float(milkfat)/100)*float(milkprod))\n",
    "        DMI = ((0.372*float(FCM))+(0.0968*float(mw)))*(1-math.exp(-0.192*((float(dim)/7)+3.67)))\n",
    "        PFecal = float(DMI)\n",
    "        #print('fecal =', round(float(PFecal),2))\n",
    "    except:\n",
    "        print('Something on fecal calculations is wrong')\n",
    "        \n",
    "    #Pregnancy\n",
    "    try:\n",
    "        if float(dp) > 189:\n",
    "            PFetal = 0.02743*math.exp((0.05527-(0.000075*float(dp)))*float(dp))-0.02743*math.exp((0.05527-(0.000075*(float(dp)-1)))*(float(dp)-1))\n",
    "        else:\n",
    "            CaFetal = 0\n",
    "        #print('Fetal =', round(float(PFetal), 2))\n",
    "    except:\n",
    "        print('Something on pregnancy calculations is wrong')\n",
    "        \n",
    "    #Lactation\n",
    "    try:\n",
    "        if int(dim) > 0:\n",
    "            PMilkProd = 0.9*float(milkprod)\n",
    "        else:\n",
    "            PMilkProd = 0\n",
    "        #print('Lactation =', round(float(PMilkProd), 2))\n",
    "    except:\n",
    "        print('Something on lactation calculations is wrong')\n",
    "        \n",
    "    #Growing\n",
    "    try:\n",
    "        if float(wg) > 0:\n",
    "            PGrowing = (1.2+(4.635*((float(mw))**0.22)*((float(bw))**-0.22)))*(float(wg)/0.96)\n",
    "        else:\n",
    "            PGrowing = 0\n",
    "        #print('growing =', round(float(PGrowing), 2))\n",
    "    except:\n",
    "        print('Something on growing calculations is wrong')\n",
    "    \n",
    "    PNeed = PFecal + PUrine + PFetal+ PMilkProd + PGrowing\n",
    "    print('total P need =',round(float(PNeed), 2))\n",
    "        \n"
   ]
  },
  {
   "cell_type": "code",
   "execution_count": 7,
   "metadata": {},
   "outputs": [
    {
     "name": "stdout",
     "output_type": "stream",
     "text": [
      "total Ca need = 74.7\n",
      "total P need = 60.46\n"
     ]
    }
   ],
   "source": [
    "#Run function and print results\n",
    "ca = calcium()\n",
    "P = phosphorus()"
   ]
  },
  {
   "cell_type": "code",
   "execution_count": 9,
   "metadata": {},
   "outputs": [],
   "source": [
    "#Add the results in the file with the information to produce a report file\n",
    "import csv\n",
    "with open('report.csv', 'w', newline='') as csvfile:\n",
    "    writer = csv.writer(csvfile, delimiter='|', quoting=csv.QUOTE_ALL)\n",
    "    writer.writerow(['Cow ID', 'Body weight', 'Days in milking', 'Days of pregnancy', 'Breed', 'Milk production', 'Milk fat', 'Weight gain'])\n",
    "    writer.writerow([cowID, bw, dim, dp, breed, milkprod, milkfat, wg])\n",
    "    writer.writerow('')\n",
    "    writer.writerow(['Nutrient', 'Need'])\n",
    "    writer.writerow(['Ca', ca])\n",
    "    writer.writerow(['P', P])"
   ]
  },
  {
   "cell_type": "code",
   "execution_count": 10,
   "metadata": {},
   "outputs": [
    {
     "name": "stdout",
     "output_type": "stream",
     "text": [
      "['Cow ID|\"Body weight\"|\"Days in milking\"|\"Days of pregnancy\"|\"Breed\"|\"Milk production\"|\"Milk fat\"|\"Weight gain\"']\n",
      "['120|\"500\"|\"120\"|\"250\"|\"jersey\"|\"35\"|\"4.1\"|\"0.1\"']\n",
      "[]\n",
      "['Nutrient|\"Need\"']\n",
      "['Ca|\"\"']\n",
      "['P|\"\"']\n"
     ]
    }
   ],
   "source": [
    "#Show the final report\n",
    "import csv\n",
    "with open('report.csv', 'r') as reportfile:\n",
    "    reader = csv.reader(reportfile)\n",
    "    for row in reader:\n",
    "        print(row)"
   ]
  },
  {
   "cell_type": "code",
   "execution_count": null,
   "metadata": {},
   "outputs": [],
   "source": []
  }
 ],
 "metadata": {
  "kernelspec": {
   "display_name": "Python 3.8 (full)",
   "language": "python",
   "name": "python3-3.8-ufrc"
  },
  "language_info": {
   "codemirror_mode": {
    "name": "ipython",
    "version": 3
   },
   "file_extension": ".py",
   "mimetype": "text/x-python",
   "name": "python",
   "nbconvert_exporter": "python",
   "pygments_lexer": "ipython3",
   "version": "3.8.1"
  }
 },
 "nbformat": 4,
 "nbformat_minor": 4
}
