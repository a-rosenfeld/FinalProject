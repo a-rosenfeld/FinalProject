{
 "cells": [
  {
   "cell_type": "code",
   "execution_count": 3,
   "metadata": {},
   "outputs": [
    {
     "name": "stdin",
     "output_type": "stream",
     "text": [
      "What is your name? \n",
      " Aaron\n"
     ]
    }
   ],
   "source": [
    "#Mineral needs for dairy cows following NRC 2001\n",
    "name = input('What is your name? \\n')\n",
    "import math"
   ]
  },
  {
   "cell_type": "code",
   "execution_count": 4,
   "metadata": {},
   "outputs": [],
   "source": [
    "import csv\n",
    "with open('info.csv', 'w', newline='') as csvfile:\n",
    "    writer = csv.writer(csvfile, delimiter=',', quoting=csv.QUOTE_ALL)\n",
    "    writer.writerow(['Cow ID','Body weight','mw','Days in milking','Days of pregnancy','Breed','Milk production','Milk fat','Weight gain'])"
   ]
  },
  {
   "cell_type": "code",
   "execution_count": 12,
   "metadata": {},
   "outputs": [],
   "source": [
    "#Enter basic information for the calculation\n",
    "def WriteNewRow():\n",
    "    cowID = input('Cow ID#: ')\n",
    "    bw = input('Body weight (lb, use whole numbers): ')\n",
    "    mw = float(bw)**0.75\n",
    "    dim = input('Days lactating? If not a lactating cow, type \"0\".\\n')\n",
    "    dp = input('Days pregnant? If not pregnant, type \"0\".\\n')\n",
    "    breed = input('What is the breed? Type \"holstein\", \"jersey\", or \"other\".')\n",
    "    milkprod = input('Milk yield per day (kg/day): \\n')\n",
    "    milkfat = input('Percent milk fat: \\n')\n",
    "    wg = input('Average net bodyweight gain per day (lb/day): \\n')\n",
    "    NewRow = cowID,bw,mw,dim,dp,breed,milkprod,milkfat,wg\n",
    "    import csv\n",
    "    from csv import writer\n",
    "    with open('info.csv', 'a+', newline='') as write_obj:\n",
    "        # Create a writer object from csv module\n",
    "        csv_writer = writer(write_obj)\n",
    "        # Add contents of list as last row in the csv file\n",
    "        csv_writer.writerow(NewRow)\n",
    "    import csv\n",
    "    with open('info.csv', 'r') as file:\n",
    "        reader = csv.reader(file)\n",
    "        for row in reader:\n",
    "            print(row)"
   ]
  },
  {
   "cell_type": "code",
   "execution_count": 13,
   "metadata": {},
   "outputs": [
    {
     "name": "stdin",
     "output_type": "stream",
     "text": [
      "Cow ID#:  1111\n",
      "Body weight (lb, use whole numbers):  500\n",
      "Days lactating? If not a lactating cow, type \"0\".\n",
      " 3\n",
      "Days pregnant? If not pregnant, type \"0\".\n",
      " 200\n",
      "What is the breed? Type \"holstein\", \"jersey\", or \"other\". holstein\n",
      "Milk yield per day (kg/day): \n",
      " 50\n",
      "Percent milk fat: \n",
      " 3\n",
      "Average net bodyweight gain per day (lb/day): \n",
      " .7\n"
     ]
    },
    {
     "name": "stdout",
     "output_type": "stream",
     "text": [
      "['Cow ID', 'Body weight', 'mw', 'Days in milking', 'Days of pregnancy', 'Breed', 'Milk production', 'Milk fat', 'Weight gain']\n",
      "['1111', '500', '105.7371263440564', '3', '200', 'holstein', '50', '10', '.5']\n",
      "['1111', '500', '105.7371263440564', '3', '200', 'holstein', '50', '3', '.7']\n"
     ]
    }
   ],
   "source": [
    "WriteNewRow()"
   ]
  },
  {
   "cell_type": "code",
   "execution_count": 14,
   "metadata": {},
   "outputs": [],
   "source": [
    "def AddCowsQ():\n",
    "    AddCows = input('Add another cow? (Y/N) \\n')\n",
    "    if AddCows == \"Y\":\n",
    "        WriteNewRow()\n",
    "        AddCowsQ()\n",
    "    else:\n",
    "        print('Ready to calculate Ca and P needs!')"
   ]
  },
  {
   "cell_type": "code",
   "execution_count": 15,
   "metadata": {},
   "outputs": [
    {
     "name": "stdin",
     "output_type": "stream",
     "text": [
      "Add another cow? (Y/N) \n",
      " N\n"
     ]
    },
    {
     "name": "stdout",
     "output_type": "stream",
     "text": [
      "Ready to calculate Ca and P needs!\n"
     ]
    }
   ],
   "source": [
    "AddCowsQ()"
   ]
  },
  {
   "cell_type": "code",
   "execution_count": 8,
   "metadata": {},
   "outputs": [],
   "source": [
    "#Below we will append Ca and P needs for each cow in new columns using Pandas"
   ]
  },
  {
   "cell_type": "code",
   "execution_count": 85,
   "metadata": {},
   "outputs": [
    {
     "data": {
      "text/html": [
       "<div>\n",
       "<style scoped>\n",
       "    .dataframe tbody tr th:only-of-type {\n",
       "        vertical-align: middle;\n",
       "    }\n",
       "\n",
       "    .dataframe tbody tr th {\n",
       "        vertical-align: top;\n",
       "    }\n",
       "\n",
       "    .dataframe thead th {\n",
       "        text-align: right;\n",
       "    }\n",
       "</style>\n",
       "<table border=\"1\" class=\"dataframe\">\n",
       "  <thead>\n",
       "    <tr style=\"text-align: right;\">\n",
       "      <th></th>\n",
       "      <th>Cow ID</th>\n",
       "      <th>Body weight</th>\n",
       "      <th>mw</th>\n",
       "      <th>Days in milking</th>\n",
       "      <th>Days of pregnancy</th>\n",
       "      <th>Breed</th>\n",
       "      <th>Milk production</th>\n",
       "      <th>Milk fat</th>\n",
       "      <th>Weight gain</th>\n",
       "      <th>CaUrine</th>\n",
       "      <th>...</th>\n",
       "      <th>CaFetal</th>\n",
       "      <th>CaMilkProd</th>\n",
       "      <th>CaGrowing</th>\n",
       "      <th>Total Ca Need</th>\n",
       "      <th>PUrine</th>\n",
       "      <th>PFecal</th>\n",
       "      <th>PFetal</th>\n",
       "      <th>PMilkProd</th>\n",
       "      <th>PGrowing</th>\n",
       "      <th>Total P Need</th>\n",
       "    </tr>\n",
       "  </thead>\n",
       "  <tbody>\n",
       "    <tr>\n",
       "      <th>0</th>\n",
       "      <td>1111</td>\n",
       "      <td>500</td>\n",
       "      <td>105.737126</td>\n",
       "      <td>3</td>\n",
       "      <td>200</td>\n",
       "      <td>holstein</td>\n",
       "      <td>50</td>\n",
       "      <td>10</td>\n",
       "      <td>0.5</td>\n",
       "      <td>0.4</td>\n",
       "      <td>...</td>\n",
       "      <td>2.891023</td>\n",
       "      <td>61.0</td>\n",
       "      <td>3.63755</td>\n",
       "      <td>83.428573</td>\n",
       "      <td>1.0</td>\n",
       "      <td>24.82753</td>\n",
       "      <td>2.159901</td>\n",
       "      <td>45.0</td>\n",
       "      <td>2.340162</td>\n",
       "      <td>75.327593</td>\n",
       "    </tr>\n",
       "    <tr>\n",
       "      <th>1</th>\n",
       "      <td>1111</td>\n",
       "      <td>500</td>\n",
       "      <td>105.737126</td>\n",
       "      <td>3</td>\n",
       "      <td>200</td>\n",
       "      <td>holstein</td>\n",
       "      <td>50</td>\n",
       "      <td>3</td>\n",
       "      <td>0.7</td>\n",
       "      <td>0.4</td>\n",
       "      <td>...</td>\n",
       "      <td>2.891023</td>\n",
       "      <td>61.0</td>\n",
       "      <td>5.09257</td>\n",
       "      <td>84.883593</td>\n",
       "      <td>1.0</td>\n",
       "      <td>14.18841</td>\n",
       "      <td>2.159901</td>\n",
       "      <td>45.0</td>\n",
       "      <td>3.276227</td>\n",
       "      <td>65.624538</td>\n",
       "    </tr>\n",
       "  </tbody>\n",
       "</table>\n",
       "<p>2 rows × 21 columns</p>\n",
       "</div>"
      ],
      "text/plain": [
       "   Cow ID  Body weight          mw  Days in milking  Days of pregnancy  \\\n",
       "0    1111          500  105.737126                3                200   \n",
       "1    1111          500  105.737126                3                200   \n",
       "\n",
       "      Breed  Milk production  Milk fat  Weight gain  CaUrine  ...   CaFetal  \\\n",
       "0  holstein               50        10          0.5      0.4  ...  2.891023   \n",
       "1  holstein               50         3          0.7      0.4  ...  2.891023   \n",
       "\n",
       "   CaMilkProd  CaGrowing  Total Ca Need  PUrine    PFecal    PFetal  \\\n",
       "0        61.0    3.63755      83.428573     1.0  24.82753  2.159901   \n",
       "1        61.0    5.09257      84.883593     1.0  14.18841  2.159901   \n",
       "\n",
       "   PMilkProd  PGrowing  Total P Need  \n",
       "0       45.0  2.340162     75.327593  \n",
       "1       45.0  3.276227     65.624538  \n",
       "\n",
       "[2 rows x 21 columns]"
      ]
     },
     "execution_count": 85,
     "metadata": {},
     "output_type": "execute_result"
    }
   ],
   "source": [
    "import pandas as pd\n",
    "import numpy as np\n",
    "import math\n",
    "columns = ['Cow ID','Body weight','mw','Days in milking','Days of pregnancy','Breed','Milk production','Milk fat','Weight gain']\n",
    "Cows = pd.read_csv(\"./info.csv\", usecols=columns)\n",
    "\n",
    "###Ca Needs\n",
    "\n",
    "#Urine Ca\n",
    "try:\n",
    "    Cows['CaUrine'] = 0.08*(Cows['Body weight'] / 100)\n",
    "except:\n",
    "    Cows['CaUrine'] = 'error'\n",
    "\n",
    "#Fecal Ca\n",
    "try:\n",
    "    if ((Cows['Days in milking']) > 0).all():\n",
    "        Cows['CaFecal'] = 3.1*(Cows['Body weight'] / 100)\n",
    "    else:\n",
    "        Cows['CaFecal'] = 1.54*(Cows['Body weight'] / 100)\n",
    "except:\n",
    "    Cows['CaFecal'] = 'error'\n",
    "\n",
    "#Fetal Ca\n",
    "try:\n",
    "    if ((Cows['Days of pregnancy']) > 189).all():\n",
    "        Cows['CaFetal'] = 0.02456*np.exp((0.05581-(0.00007*(Cows['Days of pregnancy'])))*(Cows['Days of pregnancy']))-0.02456*np.exp((0.05581-(0.00007*((Cows['Days of pregnancy'])-1)))*((Cows['Days of pregnancy'])-1))\n",
    "    else:\n",
    "        Cows['CaFetal'] = 0\n",
    "except:\n",
    "    Cows['CaFetal'] = 'error'\n",
    "\n",
    "#Lactation Ca\n",
    "try:\n",
    "    if (Cows['Breed']).any() == 'holstein':\n",
    "        Cows['CaMilkProd'] = 1.22*(Cows['Milk production'])\n",
    "    elif (Cows['Breed']).any() == 'jersey':\n",
    "        Cows['CaMilkProd'] = 1.45*(Cows['Milk production'])\n",
    "    else:\n",
    "        Cows['CaMilkProd'] = 1.37*(Cows['Milk production'])\n",
    "    #print('Lactation =', round(float(CaMilkProd), 2))\n",
    "except:\n",
    "    Cows['CaMilkProd'] = 'error'\n",
    "\n",
    "#Growing Ca\n",
    "try:\n",
    "    if ((Cows['Weight gain']) > 0).all():\n",
    "        Cows['CaGrowing'] = (9.83*((Cows['mw'])**0.22)*(Cows['Body weight'])**-0.22)*((Cows['Weight gain'])/0.96)\n",
    "    else:\n",
    "        Cows['CaGrowing'] = 0\n",
    "    #print('growing =', round(float(CaGrowing), 2))\n",
    "except:\n",
    "    Cows['CaGrowing'] = 'error'\n",
    "       \n",
    "Cows['Total Ca Need'] = Cows['CaUrine'] + Cows['CaFecal'] + Cows['CaFetal'] + Cows['CaMilkProd'] + Cows['CaGrowing']\n",
    "\n",
    "#Urine P\n",
    "Cows['PUrine'] = 0.002*(Cows['Body weight'])\n",
    "#print('urinary =', round(float(PUrine), 2))\n",
    "\n",
    "#Fecal P\n",
    "FCM = (0.4*(Cows['Milk production']))+(15*(Cows['Milk fat'] / 100)*Cows['Milk production'])\n",
    "DMI = ((0.372*(FCM))+(0.0968*(Cows['mw'])))*(1-np.exp(-0.192*((Cows['Days in milking'] / 7)+3.67)))\n",
    "Cows['PFecal'] = (DMI)\n",
    "\n",
    "###P Needs\n",
    "\n",
    "#Fetal P\n",
    "try:\n",
    "    if (Cows['Days of pregnancy'] > 189).all():\n",
    "        Cows['PFetal'] = 0.02743*np.exp((0.05527-(0.000075*(Cows['Days of pregnancy'])))*(Cows['Days of pregnancy']))-0.02743*np.exp((0.05527-(0.000075*((Cows['Days of pregnancy'])-1)))*((Cows['Days of pregnancy'])-1))\n",
    "    else:\n",
    "        Cows['PFetal'] = 0\n",
    "except:\n",
    "    Cows['PFetal'] = 'error'\n",
    "\n",
    "#Lactation P\n",
    "try:\n",
    "    if (Cows['Days in milking'] > 0).all():\n",
    "        Cows['PMilkProd'] = 0.9*Cows['Milk production']\n",
    "    else:\n",
    "        Cows['PMilkProd'] = 0\n",
    "except:\n",
    "    Cows['PMilkProd'] = 'error'\n",
    "\n",
    "#Growing P\n",
    "try:\n",
    "    if (Cows['Weight gain'] > 0).all():\n",
    "        Cows['PGrowing'] = (1.2+(4.635*((Cows['mw'])**0.22)*((Cows['Body weight'])**-0.22)))*(Cows['Weight gain'] / 0.96)\n",
    "    else:\n",
    "        Cows['PGrowing'] = 0\n",
    "except:\n",
    "    Cows['PGrowing'] = 'error'\n",
    "\n",
    "#Total P Need\n",
    "Cows['Total P Need'] = Cows['PFecal'] + Cows['PUrine'] + Cows['PFetal']+ Cows['PMilkProd'] + Cows['PGrowing']\n",
    "\n",
    "Cows"
   ]
  },
  {
   "cell_type": "code",
   "execution_count": 86,
   "metadata": {},
   "outputs": [],
   "source": [
    "#Create an excel doc\n",
    "Cows.to_csv(r'./FinalExcel.csv', index = False)"
   ]
  },
  {
   "cell_type": "code",
   "execution_count": 88,
   "metadata": {},
   "outputs": [],
   "source": [
    "#Truncate the excel doc to only include total Ca and P\n",
    "columns = ['Cow ID','Body weight','mw','Days in milking','Days of pregnancy','Breed','Milk production','Milk fat','Weight gain','Total Ca Need','Total P Need']\n",
    "Cows=pd.read_csv(\"./FinalExcel.csv\", usecols=columns)\n",
    "Cows.to_csv(r'./FinalExcel.csv', index = False)"
   ]
  },
  {
   "cell_type": "code",
   "execution_count": null,
   "metadata": {},
   "outputs": [],
   "source": [
    "##Below is just some extra code"
   ]
  },
  {
   "cell_type": "code",
   "execution_count": null,
   "metadata": {},
   "outputs": [],
   "source": [
    "import openpyxl\n",
    "wb = openpyxl.load_workbook('Cow_CaP.xlsx')\n",
    "ws = wb.active\n",
    "i = 0\n",
    "cell_val = ''\n",
    "# Finds which row is blank first\n",
    "while cell_val != '':\n",
    "    cell_val = ws['A' + i].value\n",
    "    i += 1\n",
    "# Modify Sheet, Starting With Row i\n",
    "wb.save('Cow_CaP.xlsx')"
   ]
  },
  {
   "cell_type": "code",
   "execution_count": null,
   "metadata": {},
   "outputs": [],
   "source": []
  }
 ],
 "metadata": {
  "kernelspec": {
   "display_name": "Python 3.8 (full)",
   "language": "python",
   "name": "python3-3.8-ufrc"
  },
  "language_info": {
   "codemirror_mode": {
    "name": "ipython",
    "version": 3
   },
   "file_extension": ".py",
   "mimetype": "text/x-python",
   "name": "python",
   "nbconvert_exporter": "python",
   "pygments_lexer": "ipython3",
   "version": "3.8.1"
  }
 },
 "nbformat": 4,
 "nbformat_minor": 4
}
