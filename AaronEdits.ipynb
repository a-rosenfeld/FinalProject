{
 "cells": [
  {
   "cell_type": "code",
   "execution_count": 52,
   "metadata": {},
   "outputs": [
    {
     "name": "stdin",
     "output_type": "stream",
     "text": [
      "What is your name? \n",
      " Aaron\n"
     ]
    }
   ],
   "source": [
    "#Mineral needs for dairy cows following NRC 2001\n",
    "name = input('What is your name? \\n')\n",
    "import math"
   ]
  },
  {
   "cell_type": "code",
   "execution_count": 53,
   "metadata": {},
   "outputs": [],
   "source": [
    "import csv\n",
    "with open('info.csv', 'w', newline='') as csvfile:\n",
    "    writer = csv.writer(csvfile, delimiter=',', quoting=csv.QUOTE_ALL)\n",
    "    writer.writerow(['Cow ID','Body weight','mw','Days in milking','Days of pregnancy','Breed','Milk production','Milk fat','Weight gain'])"
   ]
  },
  {
   "cell_type": "code",
   "execution_count": 54,
   "metadata": {},
   "outputs": [],
   "source": [
    "#Enter basic information for the calculation\n",
    "def WriteNewRow():\n",
    "    cowID = input('Cow ID#: ')\n",
    "    bw = input('Body weight (lb, use whole numbers): ')\n",
    "    mw = float(bw)**0.75\n",
    "    dim = input('Days lactating? If not a lactating cow, type \"0\".\\n')\n",
    "    dp = input('Days pregnant? If not pregnant, type \"0\".\\n')\n",
    "    breed = input('What is the breed? Type \"holstein\", \"jersey\", or \"other\".')\n",
    "    milkprod = input('Milk yield per day (kg/day): \\n')\n",
    "    milkfat = input('Percent milk fat: \\n')\n",
    "    wg = input('Average net bodyweight gain per day (lb/day): \\n')\n",
    "    NewRow = cowID,bw,mw,dim,dp,breed,milkprod,milkfat,wg\n",
    "    import csv\n",
    "    from csv import writer\n",
    "    with open('info.csv', 'a+', newline='') as write_obj:\n",
    "        # Create a writer object from csv module\n",
    "        csv_writer = writer(write_obj)\n",
    "        # Add contents of list as last row in the csv file\n",
    "        csv_writer.writerow(NewRow)\n",
    "    import csv\n",
    "    with open('info.csv', 'r') as file:\n",
    "        reader = csv.reader(file)\n",
    "        for row in reader:\n",
    "            print(row)"
   ]
  },
  {
   "cell_type": "code",
   "execution_count": 55,
   "metadata": {},
   "outputs": [
    {
     "name": "stdin",
     "output_type": "stream",
     "text": [
      "Cow ID#:  1234\n",
      "Body weight (lb, use whole numbers):  500\n",
      "Days lactating? If not a lactating cow, type \"0\".\n",
      " 0\n",
      "Days pregnant? If not pregnant, type \"0\".\n",
      " 0\n",
      "What is the breed? Type \"holstein\", \"jersey\", or \"other\". other\n",
      "Milk yield per day (kg/day): \n",
      " 0\n",
      "Percent milk fat: \n",
      " 0\n",
      "Average net bodyweight gain per day (lb/day): \n",
      " .5\n"
     ]
    },
    {
     "name": "stdout",
     "output_type": "stream",
     "text": [
      "['Cow ID', 'Body weight', 'mw', 'Days in milking', 'Days of pregnancy', 'Breed', 'Milk production', 'Milk fat', 'Weight gain']\n",
      "['1234', '500', '105.7371263440564', '0', '0', 'other', '0', '0', '.5']\n"
     ]
    }
   ],
   "source": [
    "WriteNewRow()"
   ]
  },
  {
   "cell_type": "code",
   "execution_count": 56,
   "metadata": {},
   "outputs": [],
   "source": [
    "def AddCowsQ():\n",
    "    AddCows = input('Add another cow? (Y/N) \\n')\n",
    "    if AddCows == \"Y\":\n",
    "        WriteNewRow()\n",
    "        AddCowsQ()\n",
    "    else:\n",
    "        print('Ready to calculate Ca and P needs!')"
   ]
  },
  {
   "cell_type": "code",
   "execution_count": 57,
   "metadata": {},
   "outputs": [
    {
     "name": "stdin",
     "output_type": "stream",
     "text": [
      "Add another cow? (Y/N) \n",
      " N\n"
     ]
    },
    {
     "name": "stdout",
     "output_type": "stream",
     "text": [
      "Ready to calculate Ca and P needs!\n"
     ]
    }
   ],
   "source": [
    "AddCowsQ()"
   ]
  },
  {
   "cell_type": "code",
   "execution_count": null,
   "metadata": {},
   "outputs": [],
   "source": []
  },
  {
   "cell_type": "code",
   "execution_count": null,
   "metadata": {},
   "outputs": [],
   "source": [
    "#Below we will append Ca and P needs for each cow in 2 new columns using Pandas"
   ]
  },
  {
   "cell_type": "code",
   "execution_count": 61,
   "metadata": {},
   "outputs": [
    {
     "ename": "SyntaxError",
     "evalue": "unexpected EOF while parsing (<ipython-input-61-09b5d318f26c>, line 4)",
     "output_type": "error",
     "traceback": [
      "\u001b[0;36m  File \u001b[0;32m\"<ipython-input-61-09b5d318f26c>\"\u001b[0;36m, line \u001b[0;32m4\u001b[0m\n\u001b[0;31m    Cows['CaUrine']= 0.08*(float(['Body weight'])/100\u001b[0m\n\u001b[0m                                                     ^\u001b[0m\n\u001b[0;31mSyntaxError\u001b[0m\u001b[0;31m:\u001b[0m unexpected EOF while parsing\n"
     ]
    }
   ],
   "source": [
    "import pandas as pd\n",
    "columns = ['Cow ID','Body weight','Days in milking','Days of pregnancy','Breed','Milk production','Milk fat','Weight gain']\n",
    "Cows = pd.read_csv(\"./info.csv\", usecols=columns)\n",
    "Cows['CaUrine']= 0.08*(float(['Body weight'])/100"
   ]
  },
  {
   "cell_type": "code",
   "execution_count": 59,
   "metadata": {},
   "outputs": [],
   "source": [
    "#Function to calculate the calcium need\n",
    "def calcium():\n",
    "    #Needs of Ca for maintenance\n",
    "    #Urinary\n",
    "    try:\n",
    "        CaUrine = 0.08*(float(['Body weight'])/100)\n",
    "        #print('urinary =', round(float(CaUrine)), 2)\n",
    "    except:\n",
    "        print('Urine calculation failed.')\n",
    "        \n",
    "   #fecal\n",
    "    try:\n",
    "        if int(['Days in milking']) > 0:\n",
    "            CaFecal = 3.1*(float(['Body weight'])/100)\n",
    "        else:\n",
    "            CaFecal = 1.54*(float(['Body weight'])/100)\n",
    "        #print('fecal =', round(float(CaFecal),2))\n",
    "    except:\n",
    "        print('Something on fecal calculations is wrong')\n",
    "        \n",
    "    #Pregnancy\n",
    "    try:\n",
    "        if float(['Days of pregnancy']) > 189:\n",
    "            CaFetal = 0.02456*math.exp((0.05581-(0.00007*float(['Days of pregnancy'])))*float(['Days of pregnancy']))-0.02456*math.exp((0.05581-(0.00007*(float(['Days of pregnancy'])-1)))*(float(['Days of pregnancy'])-1))\n",
    "        else:\n",
    "            CaFetal = 0\n",
    "        #print('Fetal =', round(float(CaFetal), 2))\n",
    "    except:\n",
    "        print('Something on pregnancy calculations is wrong')\n",
    "        \n",
    "    #Lactation\n",
    "    try:\n",
    "        if str(['Breed']) == 'holstein':\n",
    "            CaMilkProd = 1.22*float(['Milk production'])\n",
    "        elif str(['Breed']) == 'jersey':\n",
    "            CaMilkProd = 1.45*float(['Milk production'])\n",
    "        else:\n",
    "            CaMilkProd = 1.37*float(['Milk production'])\n",
    "        #print('Lactation =', round(float(CaMilkProd), 2))\n",
    "    except:\n",
    "        print('Something on lactation calculations is wrong')\n",
    "\n",
    "    #Growing\n",
    "    try:\n",
    "        if float(['Weight gain']) > 0:\n",
    "            CaGrowing = (9.83*(float(['mw'])**0.22)*(float(['Body weight'])**-0.22))*(float(['Weight gain'])/0.96)\n",
    "        else:\n",
    "            CaGrowing = 0\n",
    "        #print('growing =', round(float(CaGrowing), 2))\n",
    "    except:\n",
    "        print('Something on growing calculations is wrong')\n",
    "        \n",
    "    CaNeed = CaFecal + CaUrine + CaFetal+ CaMilkProd + CaGrowing\n",
    "    print('total Ca need =',round(float(CaNeed), 2))\n"
   ]
  },
  {
   "cell_type": "code",
   "execution_count": 60,
   "metadata": {},
   "outputs": [
    {
     "name": "stdout",
     "output_type": "stream",
     "text": [
      "Urine calculation failed.\n",
      "Something on fecal calculations is wrong\n",
      "Something on pregnancy calculations is wrong\n",
      "Something on lactation calculations is wrong\n",
      "Something on growing calculations is wrong\n"
     ]
    },
    {
     "ename": "UnboundLocalError",
     "evalue": "local variable 'CaFecal' referenced before assignment",
     "output_type": "error",
     "traceback": [
      "\u001b[0;31m---------------------------------------------------------------------------\u001b[0m",
      "\u001b[0;31mUnboundLocalError\u001b[0m                         Traceback (most recent call last)",
      "\u001b[0;32m<ipython-input-60-f68137203bc2>\u001b[0m in \u001b[0;36m<module>\u001b[0;34m\u001b[0m\n\u001b[0;32m----> 1\u001b[0;31m \u001b[0mCows\u001b[0m\u001b[0;34m[\u001b[0m\u001b[0;34m'Calcium Need'\u001b[0m\u001b[0;34m]\u001b[0m \u001b[0;34m=\u001b[0m \u001b[0mcalcium\u001b[0m\u001b[0;34m(\u001b[0m\u001b[0;34m)\u001b[0m\u001b[0;34m\u001b[0m\u001b[0;34m\u001b[0m\u001b[0m\n\u001b[0m",
      "\u001b[0;32m<ipython-input-59-0a3a169e64ed>\u001b[0m in \u001b[0;36mcalcium\u001b[0;34m()\u001b[0m\n\u001b[1;32m     51\u001b[0m         \u001b[0mprint\u001b[0m\u001b[0;34m(\u001b[0m\u001b[0;34m'Something on growing calculations is wrong'\u001b[0m\u001b[0;34m)\u001b[0m\u001b[0;34m\u001b[0m\u001b[0;34m\u001b[0m\u001b[0m\n\u001b[1;32m     52\u001b[0m \u001b[0;34m\u001b[0m\u001b[0m\n\u001b[0;32m---> 53\u001b[0;31m     \u001b[0mCaNeed\u001b[0m \u001b[0;34m=\u001b[0m \u001b[0mCaFecal\u001b[0m \u001b[0;34m+\u001b[0m \u001b[0mCaUrine\u001b[0m \u001b[0;34m+\u001b[0m \u001b[0mCaFetal\u001b[0m\u001b[0;34m+\u001b[0m \u001b[0mCaMilkProd\u001b[0m \u001b[0;34m+\u001b[0m \u001b[0mCaGrowing\u001b[0m\u001b[0;34m\u001b[0m\u001b[0;34m\u001b[0m\u001b[0m\n\u001b[0m\u001b[1;32m     54\u001b[0m     \u001b[0mprint\u001b[0m\u001b[0;34m(\u001b[0m\u001b[0;34m'total Ca need ='\u001b[0m\u001b[0;34m,\u001b[0m\u001b[0mround\u001b[0m\u001b[0;34m(\u001b[0m\u001b[0mfloat\u001b[0m\u001b[0;34m(\u001b[0m\u001b[0mCaNeed\u001b[0m\u001b[0;34m)\u001b[0m\u001b[0;34m,\u001b[0m \u001b[0;36m2\u001b[0m\u001b[0;34m)\u001b[0m\u001b[0;34m)\u001b[0m\u001b[0;34m\u001b[0m\u001b[0;34m\u001b[0m\u001b[0m\n",
      "\u001b[0;31mUnboundLocalError\u001b[0m: local variable 'CaFecal' referenced before assignment"
     ]
    }
   ],
   "source": [
    "Cows['Calcium Need'] = calcium()"
   ]
  },
  {
   "cell_type": "code",
   "execution_count": null,
   "metadata": {},
   "outputs": [],
   "source": [
    "#Function to calculate the phosphorus need\n",
    "def phosphorus():\n",
    "    #Needs of Ca for maintenance\n",
    "    #Urinary\n",
    "    try:\n",
    "        PUrine = 0.002*float(bw)\n",
    "        #print('urinary =', round(float(PUrine), 2))\n",
    "    except:\n",
    "        print('Something on urine calculations is wrong')\n",
    "\n",
    "    #fecal\n",
    "    try:\n",
    "        FCM = (0.4*float(milkprod))+(15*(float(milkfat)/100)*float(milkprod))\n",
    "        DMI = ((0.372*float(FCM))+(0.0968*float(mw)))*(1-math.exp(-0.192*((float(dim)/7)+3.67)))\n",
    "        PFecal = float(DMI)\n",
    "        #print('fecal =', round(float(PFecal),2))\n",
    "    except:\n",
    "        print('Something on fecal calculations is wrong')\n",
    "        \n",
    "    #Pregnancy\n",
    "    try:\n",
    "        if float(dp) > 189:\n",
    "            PFetal = 0.02743*math.exp((0.05527-(0.000075*float(dp)))*float(dp))-0.02743*math.exp((0.05527-(0.000075*(float(dp)-1)))*(float(dp)-1))\n",
    "        else:\n",
    "            PFetal = 0\n",
    "        #print('Fetal =', round(float(PFetal), 2))\n",
    "    except:\n",
    "        print('Something on pregnancy calculations is wrong')\n",
    "        \n",
    "    #Lactation\n",
    "    try:\n",
    "        if int(dim) > 0:\n",
    "            PMilkProd = 0.9*float(milkprod)\n",
    "        else:\n",
    "            PMilkProd = 0\n",
    "        #print('Lactation =', round(float(PMilkProd), 2))\n",
    "    except:\n",
    "        print('Something on lactation calculations is wrong')\n",
    "        \n",
    "    #Growing\n",
    "    try:\n",
    "        if float(wg) > 0:\n",
    "            PGrowing = (1.2+(4.635*((float(mw))**0.22)*((float(bw))**-0.22)))*(float(wg)/0.96)\n",
    "        else:\n",
    "            PGrowing = 0\n",
    "        #print('growing =', round(float(PGrowing), 2))\n",
    "    except:\n",
    "        print('Something on growing calculations is wrong')\n",
    "    \n",
    "    PNeed = PFecal + PUrine + PFetal+ PMilkProd + PGrowing\n",
    "    print('total P need =',round(float(PNeed), 2))\n",
    "        \n"
   ]
  },
  {
   "cell_type": "code",
   "execution_count": null,
   "metadata": {},
   "outputs": [],
   "source": [
    "#Run function and print results\n",
    "ca = calcium()\n",
    "P = phosphorus()"
   ]
  },
  {
   "cell_type": "code",
   "execution_count": null,
   "metadata": {},
   "outputs": [],
   "source": [
    "#Add the results in the file with the information to produce a report file\n",
    "import csv\n",
    "with open('report.csv', 'w', newline='') as csvfile:\n",
    "    writer = csv.writer(csvfile, delimiter=',', quoting=csv.QUOTE_ALL)\n",
    "    writer.writerow(['Cow ID', 'Body weight', 'Days in milking', 'Days of pregnancy', 'Breed', 'Milk production', 'Milk fat', 'Weight gain'])\n",
    "    writer.writerow([cowID, bw, dim, dp, breed, milkprod, milkfat, wg])\n",
    "    writer.writerow('')\n",
    "    writer.writerow(['Nutrient', 'Need'])\n",
    "    writer.writerow(['Ca', ca])\n",
    "    writer.writerow(['P', P])"
   ]
  },
  {
   "cell_type": "code",
   "execution_count": null,
   "metadata": {},
   "outputs": [],
   "source": [
    "#Show the final report\n",
    "import csv\n",
    "with open('report.csv', 'r') as reportfile:\n",
    "    reader = csv.reader(reportfile)\n",
    "    for row in reader:\n",
    "        print(row)"
   ]
  },
  {
   "cell_type": "code",
   "execution_count": null,
   "metadata": {},
   "outputs": [],
   "source": [
    "import openpyxl\n",
    "wb = openpyxl.load_workbook('Cow_CaP.xlsx')\n",
    "ws = wb.active\n",
    "i = 0\n",
    "cell_val = ''\n",
    "# Finds which row is blank first\n",
    "while cell_val != '':\n",
    "    cell_val = ws['A' + i].value\n",
    "    i += 1\n",
    "# Modify Sheet, Starting With Row i\n",
    "wb.save('Cow_CaP.xlsx')"
   ]
  },
  {
   "cell_type": "code",
   "execution_count": null,
   "metadata": {},
   "outputs": [],
   "source": []
  }
 ],
 "metadata": {
  "kernelspec": {
   "display_name": "Python 3.8 (full)",
   "language": "python",
   "name": "python3-3.8-ufrc"
  },
  "language_info": {
   "codemirror_mode": {
    "name": "ipython",
    "version": 3
   },
   "file_extension": ".py",
   "mimetype": "text/x-python",
   "name": "python",
   "nbconvert_exporter": "python",
   "pygments_lexer": "ipython3",
   "version": "3.8.1"
  }
 },
 "nbformat": 4,
 "nbformat_minor": 4
}
